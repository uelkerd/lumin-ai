{
 "cells": [
  {
   "cell_type": "markdown",
   "metadata": {},
   "source": [
    "# LUMIN.AI: Sentiment Analysis MVP\n",
    "\n",
    "This notebook implements a minimum viable product for sentiment analysis in the LUMIN.AI project."
   ]
  },
  {
   "cell_type": "code",
   "execution_count": null,
   "metadata": {},
   "outputs": [],
   "source": [
    "# Import libraries\n",
    "from transformers import pipeline\n",
    "\n",
    "\n",
    "# Set up sentiment analysis pipeline\n",
    "sentiment_analyzer = pipeline(\"sentiment-analysis\")"
   ]
  }
 ],
 "metadata": {
  "language_info": {
   "name": "python"
  }
 },
 "nbformat": 4,
 "nbformat_minor": 2
}
